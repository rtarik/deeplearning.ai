{
 "cells": [
  {
   "cell_type": "code",
   "execution_count": 66,
   "metadata": {},
   "outputs": [],
   "source": [
    "from sklearn import datasets\n",
    "from matplotlib import pyplot as plt\n",
    "import numpy as np\n",
    "import logistic_regression as lr"
   ]
  },
  {
   "cell_type": "code",
   "execution_count": 21,
   "metadata": {},
   "outputs": [
    {
     "data": {
      "text/plain": [
       "(1797,)"
      ]
     },
     "execution_count": 21,
     "metadata": {},
     "output_type": "execute_result"
    }
   ],
   "source": [
    "#load the digits dataset\n",
    "digits = datasets.load_digits()\n",
    "(digits.target == 0).shape"
   ]
  },
  {
   "cell_type": "code",
   "execution_count": 33,
   "metadata": {},
   "outputs": [],
   "source": [
    "def filter_digits(value1, value2):\n",
    "    \"\"\"\n",
    "    Filter the set of digits by keeping only the values in arguments\n",
    "    \n",
    "    Arguments:\n",
    "    value1 -- digit from 0 to 9\n",
    "    value2 -- digit from 0 to 9\n",
    "    \n",
    "    Returns:\n",
    "    X -- a numpy array of dimension (64, m)\n",
    "    Y -- a numpy vector of dimension (1, m) with 1 if digit at the given index is value1 and 0 otherwise\n",
    "    \"\"\"\n",
    "    value1_indices = (digits.target == value1)\n",
    "    value2_indices = (digits.target == value2)\n",
    "    indices = np.logical_or(value1_indices, value2_indices)\n",
    "    X = digits.data[indices, :].T\n",
    "    Y = digits.target[indices].reshape(1, -1)\n",
    "    Y[:] = (Y == value1)\n",
    "    return X, Y"
   ]
  },
  {
   "cell_type": "code",
   "execution_count": 38,
   "metadata": {},
   "outputs": [
    {
     "name": "stdout",
     "output_type": "stream",
     "text": [
      "(64, 363)\n"
     ]
    }
   ],
   "source": [
    "X, Y = filter_digits(9, 3)\n",
    "print(X.shape)"
   ]
  },
  {
   "cell_type": "code",
   "execution_count": 39,
   "metadata": {},
   "outputs": [],
   "source": [
    "def split(X, Y, proportion=0.8):\n",
    "    \"\"\"\n",
    "    Splits a set with labels into training and test sets\n",
    "    \n",
    "    Arguments:\n",
    "    X -- numpy array representing our data\n",
    "    Y -- numpy vector of dimension (1, X.shape[1]) representing our labels\n",
    "    proportion -- the percentage of training set\n",
    "    \n",
    "    Returns:\n",
    "    X_train -- numpy array of dimension (n_train, m_train)\n",
    "    Y_train -- numpy array of dimension (1, m_train)\n",
    "    X_test -- numpy array of dimension (n_test, m_test)\n",
    "    Y_test -- numpy array of dimension (1, m_test)\n",
    "    \"\"\"\n",
    "    m_train = int(X.shape[1] * 0.8)\n",
    "    X_train = X[:, :m_train]\n",
    "    Y_train = Y[:, :m_train]\n",
    "    X_test = X[:, m_train:]\n",
    "    Y_test = Y[:, m_train:]\n",
    "    return X_train, Y_train, X_test, Y_test"
   ]
  },
  {
   "cell_type": "code",
   "execution_count": 40,
   "metadata": {},
   "outputs": [],
   "source": [
    "X_train, Y_train, X_test, Y_test = split(X, Y)"
   ]
  },
  {
   "cell_type": "code",
   "execution_count": 67,
   "metadata": {},
   "outputs": [
    {
     "ename": "TypeError",
     "evalue": "data type not understood",
     "output_type": "error",
     "traceback": [
      "\u001b[0;31m---------------------------------------------------------------------------\u001b[0m",
      "\u001b[0;31mTypeError\u001b[0m                                 Traceback (most recent call last)",
      "\u001b[0;32m<ipython-input-67-93eb1629f562>\u001b[0m in \u001b[0;36m<module>\u001b[0;34m()\u001b[0m\n\u001b[0;32m----> 1\u001b[0;31m \u001b[0mlr\u001b[0m\u001b[0;34m.\u001b[0m\u001b[0minitialize_with_zeros\u001b[0m\u001b[0;34m(\u001b[0m\u001b[0;36m1\u001b[0m\u001b[0;34m)\u001b[0m\u001b[0;34m\u001b[0m\u001b[0m\n\u001b[0m",
      "\u001b[0;32m~/deeplearningai/course1/logistic_regression.py\u001b[0m in \u001b[0;36minitialize_with_zeros\u001b[0;34m(dim)\u001b[0m\n\u001b[1;32m     25\u001b[0m     \u001b[0mb\u001b[0m \u001b[0;34m-\u001b[0m\u001b[0;34m-\u001b[0m \u001b[0minitialized\u001b[0m \u001b[0mscalar\u001b[0m \u001b[0;34m(\u001b[0m\u001b[0mcorresponds\u001b[0m \u001b[0mto\u001b[0m \u001b[0mthe\u001b[0m \u001b[0mbias\u001b[0m\u001b[0;34m)\u001b[0m\u001b[0;34m\u001b[0m\u001b[0m\n\u001b[1;32m     26\u001b[0m     \"\"\"\n\u001b[0;32m---> 27\u001b[0;31m     \u001b[0;32mreturn\u001b[0m \u001b[0;36m42\u001b[0m\u001b[0;34m\u001b[0m\u001b[0m\n\u001b[0m\u001b[1;32m     28\u001b[0m \u001b[0;34m\u001b[0m\u001b[0m\n\u001b[1;32m     29\u001b[0m \u001b[0;32mdef\u001b[0m \u001b[0mpropagate\u001b[0m\u001b[0;34m(\u001b[0m\u001b[0mw\u001b[0m\u001b[0;34m,\u001b[0m \u001b[0mb\u001b[0m\u001b[0;34m,\u001b[0m \u001b[0mX\u001b[0m\u001b[0;34m,\u001b[0m \u001b[0mY\u001b[0m\u001b[0;34m)\u001b[0m\u001b[0;34m:\u001b[0m\u001b[0;34m\u001b[0m\u001b[0m\n",
      "\u001b[0;31mTypeError\u001b[0m: data type not understood"
     ]
    }
   ],
   "source": [
    "lr.initialize_with_zeros(1)"
   ]
  },
  {
   "cell_type": "code",
   "execution_count": 50,
   "metadata": {},
   "outputs": [],
   "source": [
    "def init_zeros(dim):\n",
    "    return np.zeros((dim, 1)), 0"
   ]
  },
  {
   "cell_type": "code",
   "execution_count": 51,
   "metadata": {},
   "outputs": [
    {
     "data": {
      "text/plain": [
       "(array([[0.],\n",
       "        [0.],\n",
       "        [0.],\n",
       "        [0.],\n",
       "        [0.]]), 0)"
      ]
     },
     "execution_count": 51,
     "metadata": {},
     "output_type": "execute_result"
    }
   ],
   "source": []
  },
  {
   "cell_type": "code",
   "execution_count": null,
   "metadata": {},
   "outputs": [],
   "source": []
  }
 ],
 "metadata": {
  "kernelspec": {
   "display_name": "Python 3",
   "language": "python",
   "name": "python3"
  },
  "language_info": {
   "codemirror_mode": {
    "name": "ipython",
    "version": 3
   },
   "file_extension": ".py",
   "mimetype": "text/x-python",
   "name": "python",
   "nbconvert_exporter": "python",
   "pygments_lexer": "ipython3",
   "version": "3.6.4"
  }
 },
 "nbformat": 4,
 "nbformat_minor": 2
}
