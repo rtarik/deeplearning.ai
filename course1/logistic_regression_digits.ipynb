{
 "cells": [
  {
   "cell_type": "code",
   "execution_count": 7,
   "metadata": {},
   "outputs": [],
   "source": [
    "from sklearn import datasets\n",
    "from matplotlib import pyplot as plt\n",
    "import numpy as np"
   ]
  },
  {
   "cell_type": "code",
   "execution_count": 8,
   "metadata": {},
   "outputs": [
    {
     "data": {
      "text/plain": [
       "(1797, 64)"
      ]
     },
     "execution_count": 8,
     "metadata": {},
     "output_type": "execute_result"
    }
   ],
   "source": [
    "digits = datasets.load_digits()\n",
    "digits.data.shape"
   ]
  },
  {
   "cell_type": "code",
   "execution_count": 117,
   "metadata": {},
   "outputs": [
    {
     "data": {
      "text/plain": [
       "(1797,)"
      ]
     },
     "execution_count": 117,
     "metadata": {},
     "output_type": "execute_result"
    }
   ],
   "source": [
    "digits.target.shape"
   ]
  },
  {
   "cell_type": "code",
   "execution_count": 200,
   "metadata": {},
   "outputs": [
    {
     "name": "stdout",
     "output_type": "stream",
     "text": [
      "[False False  True ... False False False]\n"
     ]
    },
    {
     "data": {
      "text/plain": [
       "177"
      ]
     },
     "execution_count": 200,
     "metadata": {},
     "output_type": "execute_result"
    }
   ],
   "source": [
    "\n",
    "\n",
    "value1 = 2\n",
    "value2 = 9\n",
    "value1_indices = (digits.target == value1)\n",
    "print(value1_indices)\n",
    "#number of digits in the array that are equal to value1\n",
    "value1_indices.sum()"
   ]
  },
  {
   "cell_type": "code",
   "execution_count": 217,
   "metadata": {},
   "outputs": [
    {
     "name": "stdout",
     "output_type": "stream",
     "text": [
      "[False False False ... False  True False]\n"
     ]
    },
    {
     "data": {
      "text/plain": [
       "180"
      ]
     },
     "execution_count": 217,
     "metadata": {},
     "output_type": "execute_result"
    }
   ],
   "source": [
    "value2_indices = (digits.target == value2)\n",
    "print(value2_indices)\n",
    "#number of digits in the array that are equal to one\n",
    "value2_indices.sum()"
   ]
  },
  {
   "cell_type": "code",
   "execution_count": 218,
   "metadata": {},
   "outputs": [],
   "source": [
    "filtered_digits_indices = value1_indices | value2_indices\n",
    "total = filtered_digits_indices.sum()"
   ]
  },
  {
   "cell_type": "code",
   "execution_count": 219,
   "metadata": {},
   "outputs": [
    {
     "data": {
      "text/plain": [
       "(357, 64)"
      ]
     },
     "execution_count": 219,
     "metadata": {},
     "output_type": "execute_result"
    }
   ],
   "source": [
    "filtered_digits = digits.data[filtered_digit_indices]\n",
    "filtered_digits.shape"
   ]
  },
  {
   "cell_type": "code",
   "execution_count": 204,
   "metadata": {},
   "outputs": [
    {
     "data": {
      "text/plain": [
       "<matplotlib.image.AxesImage at 0x7fd6daa8d320>"
      ]
     },
     "execution_count": 204,
     "metadata": {},
     "output_type": "execute_result"
    },
    {
     "data": {
      "image/png": "[encoded data removed]",
      "text/plain": [
       "<matplotlib.figure.Figure at 0x7fd6dace5b38>"
      ]
     },
     "metadata": {},
     "output_type": "display_data"
    }
   ],
   "source": [
    "import matplotlib.pyplot as plt\n",
    "\n",
    "filtered_digits_images = digits.images[bits_indices]\n",
    "plt.matshow(filtered_digits_images[0])"
   ]
  },
  {
   "cell_type": "code",
   "execution_count": 205,
   "metadata": {},
   "outputs": [
    {
     "name": "stdout",
     "output_type": "stream",
     "text": [
      "(285, 64)\n",
      "(72, 64)\n"
     ]
    }
   ],
   "source": [
    "n = 64\n",
    "m = int(total * 80 / 100)\n",
    "data_train = filtered_digits[:m,:]\n",
    "data_test = filtered_digits[m:,:]\n",
    "print(data_train.shape)\n",
    "print(data_test.shape)"
   ]
  },
  {
   "cell_type": "code",
   "execution_count": 209,
   "metadata": {},
   "outputs": [
    {
     "name": "stdout",
     "output_type": "stream",
     "text": [
      "(285,)\n",
      "(72,)\n"
     ]
    }
   ],
   "source": [
    "values = digits.target[filtered_digits_indices]\n",
    "values[:] = (values == value1)\n",
    "values_train = values[:m]\n",
    "values_test = values[m:]\n",
    "print(values_train.shape)\n",
    "print(values_test.shape)"
   ]
  },
  {
   "cell_type": "code",
   "execution_count": 213,
   "metadata": {},
   "outputs": [
    {
     "data": {
      "text/plain": [
       "[<matplotlib.lines.Line2D at 0x7fd6da9abb70>]"
      ]
     },
     "execution_count": 213,
     "metadata": {},
     "output_type": "execute_result"
    },
    {
     "data": {
      "image/png": "[encoded data removed]",
      "text/plain": [
       "<matplotlib.figure.Figure at 0x7fd6da9f4390>"
      ]
     },
     "metadata": {},
     "output_type": "display_data"
    }
   ],
   "source": [
    "num_iterations = 1000\n",
    "errors = []\n",
    "alpha = 0.005\n",
    "W = np.zeros((1, n))\n",
    "b = 0\n",
    "X = data_train.T\n",
    "Y = values_train.reshape(1, m)\n",
    "\n",
    "for i in range(num_iterations):\n",
    "    Z = np.dot(W, X) + b\n",
    "    A = 1 / (1 + np.exp(-Z))\n",
    "    dZ = A - Y\n",
    "    dW = np.dot(dZ, X.T) / m\n",
    "    db = np.sum(dZ) / m\n",
    "    W -= alpha * dW\n",
    "    b -= alpha * db\n",
    "    J = np.sum(- (Y * np.log(A) + (1 - Y) * np.log(1 - A))) / m\n",
    "    #J = np.sum(dZ * dZ)/m\n",
    "    errors.append(J)\n",
    "plt.plot(errors)"
   ]
  },
  {
   "cell_type": "code",
   "execution_count": 214,
   "metadata": {},
   "outputs": [
    {
     "name": "stdout",
     "output_type": "stream",
     "text": [
      "accuracy on the training set: 100.0%\n"
     ]
    }
   ],
   "source": [
    "#Accuracy on the training set\n",
    "predictions_train = np.zeros((1, m))\n",
    "predictions_train[:] = A > 0.5\n",
    "print(\"accuracy on the training set: \" + str(100 * np.sum(predictions_train == Y) / m) + \"%\")"
   ]
  },
  {
   "cell_type": "code",
   "execution_count": 216,
   "metadata": {},
   "outputs": [
    {
     "name": "stdout",
     "output_type": "stream",
     "text": [
      "accuracy on the test set: 98.61111111111111%\n"
     ]
    }
   ],
   "source": [
    "#Accuracy on the test set\n",
    "m_test = total - m\n",
    "predictions_test = np.zeros((1, m_test))\n",
    "X_test = bits_test.T\n",
    "Y_test = values_test.reshape(1, m_test)\n",
    "Z_test = np.dot(W, X_test) + b\n",
    "A_test = 1 / (1 + np.exp(-Z_test))\n",
    "predictions_test[:] = A_test > 0.5\n",
    "print(\"accuracy on the test set: \" + str(100 * np.sum(predictions_test == Y_test) / m_test) + \"%\")"
   ]
  },
  {
   "cell_type": "code",
   "execution_count": 16,
   "metadata": {},
   "outputs": [],
   "source": [
    "# step1: we pick two values from 0 to 10\n",
    "# step2: we filter the dataset so that it contains only those two values\n",
    "# step3: we split the data to train and test sets\n",
    "# step4: we run the logistic regression algorithm\n",
    "def lr_binary(value1, value2, alpha = 0.005, num_iterations = 1000):\n",
    "    value1_indices = (digits.target == value1)\n",
    "    value2_indices = (digits.target == value2)\n",
    "    filtered_digits_indices = value1_indices | value2_indices\n",
    "    total = filtered_digits_indices.sum()\n",
    "    filtered_digits = digits.data[filtered_digits_indices]\n",
    "    n = 64\n",
    "    m = int(total * 80 / 100)\n",
    "    data_train = filtered_digits[:m,:]\n",
    "    data_test = filtered_digits[m:,:]\n",
    "    values = digits.target[filtered_digits_indices]\n",
    "    values[:] = (values == value1)\n",
    "    values_train = values[:m]\n",
    "    values_test = values[m:]\n",
    "    errors = []\n",
    "    W = np.zeros((1, n))\n",
    "    b = 0\n",
    "    X = data_train.T\n",
    "    Y = values_train.reshape(1, m)\n",
    "\n",
    "    for i in range(num_iterations):\n",
    "        Z = np.dot(W, X) + b\n",
    "        A = 1 / (1 + np.exp(-Z))\n",
    "        dZ = A - Y\n",
    "        dW = np.dot(dZ, X.T) / m\n",
    "        db = np.sum(dZ) / m\n",
    "        W -= alpha * dW\n",
    "        b -= alpha * db\n",
    "        J = np.sum(- (Y * np.log(A) + (1 - Y) * np.log(1 - A))) / m\n",
    "        errors.append(J)\n",
    "    plt.plot(errors)\n",
    "    \n",
    "    #Accuracy on the training set\n",
    "    predictions_train = np.zeros((1, m))\n",
    "    predictions_train[:] = A > 0.5\n",
    "    print(\"accuracy on the training set: \" + str(100 * np.sum(predictions_train == Y) / m) + \"%\")\n",
    "    \n",
    "    #Accuracy on the test set\n",
    "    m_test = total - m\n",
    "    predictions_test = np.zeros((1, m_test))\n",
    "    X_test = data_test.T\n",
    "    Y_test = values_test.reshape(1, m_test)\n",
    "    Z_test = np.dot(W, X_test) + b\n",
    "    A_test = 1 / (1 + np.exp(-Z_test))\n",
    "    predictions_test[:] = A_test > 0.5\n",
    "    print(\"accuracy on the test set: \" + str(100 * np.sum(predictions_test == Y_test) / m_test) + \"%\")\n",
    "    "
   ]
  },
  {
   "cell_type": "code",
   "execution_count": 26,
   "metadata": {},
   "outputs": [
    {
     "name": "stdout",
     "output_type": "stream",
     "text": [
      "accuracy on the training set: 100.0%\n",
      "accuracy on the test set: 100.0%\n"
     ]
    },
    {
     "data": {
      "image/png": "[encoded data removed]",
      "text/plain": [
       "<matplotlib.figure.Figure at 0x7fec855ce048>"
      ]
     },
     "metadata": {},
     "output_type": "display_data"
    }
   ],
   "source": [
    "lr_binary(9, 6, num_iterations=1000)"
   ]
  },
  {
   "cell_type": "code",
   "execution_count": null,
   "metadata": {},
   "outputs": [],
   "source": []
  }
 ],
 "metadata": {
  "kernelspec": {
   "display_name": "Python 3",
   "language": "python",
   "name": "python3"
  },
  "language_info": {
   "codemirror_mode": {
    "name": "ipython",
    "version": 3
   },
   "file_extension": ".py",
   "mimetype": "text/x-python",
   "name": "python",
   "nbconvert_exporter": "python",
   "pygments_lexer": "ipython3",
   "version": "3.6.4"
  }
 },
 "nbformat": 4,
 "nbformat_minor": 2
}
