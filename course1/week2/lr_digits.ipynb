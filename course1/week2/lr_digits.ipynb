{
 "cells": [
  {
   "cell_type": "code",
   "execution_count": 15,
   "metadata": {},
   "outputs": [],
   "source": [
    "from sklearn import datasets\n",
    "from matplotlib import pyplot as plt\n",
    "import numpy as np\n",
    "import logistic_regression as lr"
   ]
  },
  {
   "cell_type": "code",
   "execution_count": 16,
   "metadata": {},
   "outputs": [
    {
     "data": {
      "text/plain": [
       "(1797,)"
      ]
     },
     "execution_count": 16,
     "metadata": {},
     "output_type": "execute_result"
    }
   ],
   "source": [
    "#load the digits dataset\n",
    "digits = datasets.load_digits()\n",
    "(digits.target == 0).shape"
   ]
  },
  {
   "cell_type": "code",
   "execution_count": 17,
   "metadata": {},
   "outputs": [],
   "source": [
    "def filter_digits(value1, value2):\n",
    "    \"\"\"\n",
    "    Filter the set of digits by keeping only the values in arguments\n",
    "    \n",
    "    Arguments:\n",
    "    value1 -- digit from 0 to 9\n",
    "    value2 -- digit from 0 to 9\n",
    "    \n",
    "    Returns:\n",
    "    X -- a numpy array of dimension (64, m)\n",
    "    Y -- a numpy vector of dimension (1, m) with 1 if digit at the given index is value1 and 0 otherwise\n",
    "    \"\"\"\n",
    "    value1_indices = (digits.target == value1)\n",
    "    value2_indices = (digits.target == value2)\n",
    "    indices = np.logical_or(value1_indices, value2_indices)\n",
    "    X = digits.data[indices, :].T\n",
    "    Y = digits.target[indices].reshape(1, -1)\n",
    "    Y[:] = (Y == value1)\n",
    "    return X, Y"
   ]
  },
  {
   "cell_type": "code",
   "execution_count": 18,
   "metadata": {},
   "outputs": [],
   "source": [
    "def split(X, Y, proportion=0.8, normalize = True):\n",
    "    \"\"\"\n",
    "    Splits a set with labels into training and test sets\n",
    "    \n",
    "    Arguments:\n",
    "    X -- numpy array representing our data\n",
    "    Y -- numpy vector of dimension (1, X.shape[1]) representing our labels\n",
    "    proportion -- the percentage of training set\n",
    "    normalize -- if set to True then the data gets divided by its mean\n",
    "    \n",
    "    Returns:\n",
    "    X_train -- numpy array of dimension (n_train, m_train)\n",
    "    Y_train -- numpy array of dimension (1, m_train)\n",
    "    X_test -- numpy array of dimension (n_test, m_test)\n",
    "    Y_test -- numpy array of dimension (1, m_test)\n",
    "    \"\"\"\n",
    "    if normalize:\n",
    "        X = X / np.mean(X)\n",
    "    m_train = int(X.shape[1] * 0.8)\n",
    "    X_train = X[:, :m_train]\n",
    "    Y_train = Y[:, :m_train]\n",
    "    X_test = X[:, m_train:]\n",
    "    Y_test = Y[:, m_train:]\n",
    "    return X_train, Y_train, X_test, Y_test"
   ]
  },
  {
   "cell_type": "code",
   "execution_count": 40,
   "metadata": {},
   "outputs": [],
   "source": [
    "def binary_digit_classifier(value1, value2, normalize = True, num_iterations=1000, learning_rate=0.005):\n",
    "    \"\"\"\n",
    "    Build a logistic regression binary digit classifier of two given values\n",
    "    and print the test accuracy of both the training and test sets\n",
    "    \n",
    "    Arguments:\n",
    "    value1 -- a digit from 0 to 9\n",
    "    value2 -- another digit from 0 to 9\n",
    "    \n",
    "    Returns:\n",
    "    nothing\n",
    "    \"\"\"\n",
    "    X, Y = filter_digits(value1, value2)\n",
    "    X_train, Y_train, X_test, Y_test = split(X, Y, normalize)\n",
    "    d = lr.model(X_train, Y_train, X_test, Y_test, num_iterations, learning_rate)\n",
    "    Y_prediction_test = lr.predict(d['w'], d['b'], X_test)\n",
    "    Y_prediction_train = lr.predict(d['w'], d['b'], X_train)\n",
    "    print(\"train accuracy: {} %\".format(100 - np.mean(np.abs(Y_prediction_train - Y_train)) * 100))\n",
    "    print(\"test accuracy: {} %\".format(100 - np.mean(np.abs(Y_prediction_test - Y_test)) * 100))"
   ]
  },
  {
   "cell_type": "code",
   "execution_count": 48,
   "metadata": {},
   "outputs": [
    {
     "name": "stdout",
     "output_type": "stream",
     "text": [
      "train accuracy: 100.0 %\n",
      "test accuracy: 97.22222222222223 %\n"
     ]
    }
   ],
   "source": [
    "binary_digit_classifier(0, 1)"
   ]
  },
  {
   "cell_type": "code",
   "execution_count": 49,
   "metadata": {},
   "outputs": [
    {
     "name": "stdout",
     "output_type": "stream",
     "text": [
      "train accuracy: 100.0 %\n",
      "test accuracy: 97.22222222222223 %\n"
     ]
    }
   ],
   "source": [
    "binary_digit_classifier(1, 0, normalize=False)"
   ]
  },
  {
   "cell_type": "code",
   "execution_count": null,
   "metadata": {},
   "outputs": [],
   "source": []
  }
 ],
 "metadata": {
  "kernelspec": {
   "display_name": "Python 3",
   "language": "python",
   "name": "python3"
  },
  "language_info": {
   "codemirror_mode": {
    "name": "ipython",
    "version": 3
   },
   "file_extension": ".py",
   "mimetype": "text/x-python",
   "name": "python",
   "nbconvert_exporter": "python",
   "pygments_lexer": "ipython3",
   "version": "3.6.4"
  }
 },
 "nbformat": 4,
 "nbformat_minor": 2
}
